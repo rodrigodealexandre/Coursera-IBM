{
 "cells": [
  {
   "cell_type": "markdown",
   "metadata": {},
   "source": [
    "# Correcting course material\n",
    "\n",
    "\n",
    "After some debugging regarding why the audio input would always fail I've found that there was missing  the headers argument in the `seech_to_text` function\n",
    "\n",
    "```\n",
    "    headers = {\n",
    "        'Content-Type': 'audio/webm'  # Ensure this matches your audio data format\n",
    "    }\n",
    "```\n",
    "\n",
    "Add to the `request.post` variable with a `headers=headers`.\n",
    "\n",
    "and the `while bool` loop inside the `seech_to_text` also won't work with the provided data.\n",
    "\n"
   ]
  },
  {
   "cell_type": "markdown",
   "metadata": {},
   "source": [
    "The corrected function `speech_to_text` is:"
   ]
  },
  {
   "cell_type": "code",
   "execution_count": 1,
   "metadata": {},
   "outputs": [],
   "source": [
    "def speech_to_text(audio_binary):\n",
    "    # Set up Watson Speech-to-Text HTTP API URL\n",
    "    base_url = \"https://sn-watson-stt.labs.skills.network\"\n",
    "    api_url = base_url + '/speech-to-text/api/v1/recognize'\n",
    "\n",
    "    # Set up parameters for our HTTP request\n",
    "    params = {\n",
    "        'model': 'en-US_Multimedia',  # Using the confirmed available model\n",
    "    }\n",
    "    headers = {\n",
    "        'Content-Type': 'audio/webm'  # Ensure this matches your audio data format\n",
    "    }\n",
    "\n",
    "    # Send an HTTP POST request\n",
    "    response = requests.post(api_url, params=params, headers=headers, data=audio_binary).json()\n",
    "\n",
    "    # Parse the response to get our transcribed text\n",
    "    text = 'null'\n",
    "    if 'results' in response and response['results']:\n",
    "        text = response['results'][0]['alternatives'][0]['transcript']\n",
    "        print('Recognized text:', text)\n",
    "    return text\n"
   ]
  },
  {
   "cell_type": "markdown",
   "metadata": {},
   "source": [
    "After class support I noted that I had the wrong link `\"https://sn-watson-stt.labs.skills.network\"` instead of `\"https://sn-watson-tts.labs.skills.network\"`. There was a error during the readings and I didn't noticed the difference between `tts` and `stt`.\n",
    "\n",
    "Therefore, the original code works if used the correct link, otherwise my code will work for te worng database path."
   ]
  },
  {
   "cell_type": "markdown",
   "metadata": {},
   "source": []
  }
 ],
 "metadata": {
  "kernelspec": {
   "display_name": "Python 3",
   "language": "python",
   "name": "python3"
  },
  "language_info": {
   "codemirror_mode": {
    "name": "ipython",
    "version": 3
   },
   "file_extension": ".py",
   "mimetype": "text/x-python",
   "name": "python",
   "nbconvert_exporter": "python",
   "pygments_lexer": "ipython3",
   "version": "3.11.9"
  }
 },
 "nbformat": 4,
 "nbformat_minor": 2
}
