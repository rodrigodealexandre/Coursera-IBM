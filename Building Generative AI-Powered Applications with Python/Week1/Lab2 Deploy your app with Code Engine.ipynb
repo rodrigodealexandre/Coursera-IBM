{
 "cells": [
  {
   "cell_type": "markdown",
   "metadata": {},
   "source": [
    "## Deploy your app with Code Engine\n",
    "### Introduction\n",
    "Now that you have Gradio to help you generate a user interface for an application, let's see how you can run applications on IBM Cloud and access it with a public URL using IBM Code Engine.\n",
    "\n",
    "### Learning objectives\n",
    "At the end of this project, you will be able to:\n",
    "\n",
    "* Create a container image\n",
    "* Create the files required to deploy your app in a container\n",
    "* Create your Code Engine project\n",
    "* Build a container image with Code Engine\n",
    "* Deploy a containerized app using Code Engine\n",
    "\n",
    "### Container images and containers\n",
    "Code Engine lets you run your apps in containers on IBM Cloud. A container is an isolated environment or place where an application can run independently. Containers can run anywhere, such as on operating systems, virtual machines, developer's machines, physical servers, and so on. This allows the containerized application to run anywhere as well and the isolation mechanism ensures that the running application will not interfere with the rest of the system.\n",
    "\n",
    "Containers are created from container images. A container image is basically a snapshot or a blueprint that indicates what will be in a container when it runs. Therefore, to deploy a containerized app, you first need to create the app's container image.\n",
    "\n",
    "### Creating the container image\n",
    "The files required to deploy your app in a container are as follows:\n",
    "\n",
    "* You can use the Gradio framework for generating the user interface of the app,for example, the Python script that contains the code to create and launch the gradio.Interface can be named as `demo.py`.\n",
    "* The source code of the app has its dependencies, such as libraries that the code uses. Hence, you need a `requirements.txt` file that specifies all the libraries the source code depends on.\n",
    "* You need a file that shows the container runtime the steps for assembling the container image, named as `Dockerfile`.\n",
    "\n",
    "Let's create the three files. Open a terminal and while you are in the `home/project` directory, make a new directory `myapp` for storing the files and go into the directory with the following command:\n",
    "\n",
    "``` \n",
    "mkdir myapp\n",
    "cd myapp\n",
    "```\n",
    "\n",
    "Now that you are in the `myapp` directory, run the following command to create the files:\n",
    "\n",
    "`touch demo.py Dockerfile requirements.txt`\n"
   ]
  },
  {
   "cell_type": "markdown",
   "metadata": {},
   "source": [
    "#### Step 1: Creating requirements.txt\n",
    "If you are a Data Scientist, you may be familiar with the `pip3 install <library-name>` command for installing libraries. By using a `requirements.txt` file that consists of all libraries you need, you can install all of them into your environment at once with the command `pip3 install -r requirements.txt`.\n",
    "\n",
    "Your goal is to deploy the app in a container; thus, all the dependencies need to go into the container as well.\n",
    "\n",
    "Let's create a `requirements` file to cover all the libraries and dependencies your app may need.\n",
    "\n",
    "Open the `requirements.txt` file in `/myapp` and paste the following library names into the file.\n",
    "\n",
    "`gradio==4.17.0`\n",
    "\n",
    "##### Testing requirements.txt locally\n",
    "Since you have already installed the required packages in the \"QuickStart Gradio\" section, you don't need to install them again here. However, it's important to test the application locally before launching it through Docker to ensure that it runs smoothly without any errors.\n",
    "\n",
    "You can test to see if the file works correctly by executing the following command in the terminal of your current CloudIDE working environment:\n",
    "\n",
    "`pip3 install -r requirements.txt`\n",
    "\n",
    "*Note: Make sure you are in the myapp directory and your virtual environment my_env created previously is activated. This allows the libraries to be installed into your virtual environment only.*"
   ]
  },
  {
   "cell_type": "markdown",
   "metadata": {},
   "source": [
    "#### Step 2: Creating demo.py\n",
    "The following code guides you creating a simple Gradio web application. If you want to know more about Gradio, please refer to here.\n",
    "\n",
    "Open the `demo.py` file in `/myapp` and fill the empty script with the following code."
   ]
  },
  {
   "cell_type": "code",
   "execution_count": null,
   "metadata": {},
   "outputs": [],
   "source": [
    "import gradio as gr\n",
    "\n",
    "def greet(name, intensity):\n",
    "    return \"Hello, \" + name + \"!\" * int(intensity)\n",
    "\n",
    "demo = gr.Interface(\n",
    "    fn=greet,\n",
    "    inputs=[\"text\", \"slider\"],\n",
    "    outputs=[\"text\"],\n",
    ")\n",
    "\n",
    "demo.launch(server_name=\"0.0.0.0\", server_port= 7860)"
   ]
  },
  {
   "cell_type": "markdown",
   "metadata": {},
   "source": [
    "Let's test your application and make sure it can run properly.\n",
    "\n",
    "##### Testing demo.py locally\n",
    "Open your terminal and go to myapp directory with `cd myapp` command.\n",
    "\n",
    "If you have successfully executed `pip3 install -r requirements.txt` in the previous step, you are good to go. If not, please run the command now to have the required libraries installed in your working environment.\n",
    "\n",
    "Run the following command in the terminal:\n",
    "\n",
    "`python3 demo.py`\n",
    "\n",
    "If you run this script properly, you should see the following result in your terminal:\n",
    "\n",
    "The result shows that your app is downloaded and the app is running on http://0.0.0.0:7860/. Click on the button below to access the web app hosted in the CloudIDE:\n",
    "\n",
    "\n",
    "#### Step 3: Creating Dockerfile\n",
    "The `Dockerfile` is the blueprint for assembling a container image.\n",
    "\n",
    "Open the Dockerfile in `/myapp` and paste the following commands into the file.\n"
   ]
  },
  {
   "cell_type": "code",
   "execution_count": null,
   "metadata": {},
   "outputs": [],
   "source": [
    "FROM python:3.10\n",
    "\n",
    "WORKDIR /app\n",
    "COPY requirements.txt requirements.txt\n",
    "RUN pip3 install --no-cache-dir -r requirements.txt\n",
    "\n",
    "COPY . .\n",
    "\n",
    "CMD [\"python\", \"demo.py\"]"
   ]
  },
  {
   "cell_type": "markdown",
   "metadata": {},
   "source": [
    "##### What does the Dockerfile do?\n",
    "**FROM python:3.10**\n",
    "Docker images can be inherited from other images. Therefore, instead of creating your own base image, you will use the official Python image `python:3.10` that already has all the tools and packages that you need to run a Python application.\n",
    "\n",
    "**WORKDIR /app**\n",
    "To facilitate the running of your commands, let's create a working directory `/app`. This instructs Docker to use this path as the default location for all subsequent commands. By creating the directory, you do not have to type out full file paths but can use relative paths based on the working directory.\n",
    "\n",
    "**COPY requirements.txt requirements.txt**\n",
    "Before you run `pip3 install`, you need to get your `requirements.txt` file into your image. You can use the `COPY` command to transfer the contents. The `COPY` command takes two parameters. The first parameter indicates to the Docker what file(s) you would like to copy into the image. The second parameter indicates to the Docker the location where the file(s) need to be copied. You can move the `requirements.txt` file into your working directory /app.\n",
    "\n",
    "**RUN pip3 install –no-cache-dir -r requirements.txt**\n",
    "Once you have your `requirements.txt` file inside the image, you can use the `RUN` command to execute the command `pip3 install --no-cache-dir -r requirements.txt`. This works exactly the same as if you were running the command locally on your machine, but this time the modules are installed into the image.\n",
    "\n",
    "**COPY**\n",
    "At this point, you have an image that is based on Python version 3.10 and you have installed your dependencies. The next step is to add your source code to the image. You will use the `COPY` command just like you did with your `requirements.txt` file above to copy everything in your current working directory to the file system in the container image.\n",
    "\n",
    "**CMD [\"python\", \"demo.py\"]**\n",
    "Now, you have to indicate to the Docker what command you want to run when your image is executed inside a container. You use the CMD command. Docker will run the `python demo.py` command to launch your app inside the container.\n",
    "\n",
    "Now that all three files have been created, let's bring in the Code Engine for building the container image."
   ]
  }
 ],
 "metadata": {
  "language_info": {
   "name": "python"
  }
 },
 "nbformat": 4,
 "nbformat_minor": 2
}
