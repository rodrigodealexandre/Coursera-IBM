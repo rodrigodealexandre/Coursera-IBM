{
 "cells": [
  {
   "cell_type": "markdown",
   "metadata": {},
   "source": [
    "\n",
    "\n",
    "  <style>\n",
    "    h2 {\n",
    "      color: #add8e6;\n",
    "      border-bottom: 1px solid #ccc;\n",
    "      padding-bottom: 10px;\n",
    "    }\n",
    "  </style>\n",
    "  <h2>str.format()</h2>\n",
    "\n",
    "This is another way to format strings in Python. It uses curly braces {} as placeholders for variables which are passed as arguments in the format() method. For example:"
   ]
  },
  {
   "cell_type": "code",
   "execution_count": 2,
   "metadata": {},
   "outputs": [
    {
     "name": "stdout",
     "output_type": "stream",
     "text": [
      "My name is John and I am 50 years old.\n"
     ]
    }
   ],
   "source": [
    "name = \"John\"\n",
    "age = 50\n",
    "print(\"My name is {} and I am {} years old.\".format(name, age))"
   ]
  },
  {
   "cell_type": "markdown",
   "metadata": {},
   "source": [
    "  <style>\n",
    "    h2 {\n",
    "      color: #add8e6;\n",
    "      border-bottom: 1px solid #ccc;\n",
    "      padding-bottom: 10px;\n",
    "    }\n",
    "  </style>\n",
    "\n",
    "  <h2>% Operator</h2>\n",
    "  \n",
    "  This is one of the oldest ways to format strings in Python. It uses the % operator to replace variables in the string. For example:"
   ]
  },
  {
   "cell_type": "code",
   "execution_count": 3,
   "metadata": {},
   "outputs": [
    {
     "name": "stdout",
     "output_type": "stream",
     "text": [
      "My name is Johnathan and I am 30 years old.\n"
     ]
    }
   ],
   "source": [
    "name = \"Johnathan\"\n",
    "age = 30\n",
    "print(\"My name is %s and I am %d years old.\" % (name, age))"
   ]
  },
  {
   "cell_type": "code",
   "execution_count": 4,
   "metadata": {},
   "outputs": [
    {
     "name": "stdout",
     "output_type": "stream",
     "text": [
      "The sum of x and y is 30.\n"
     ]
    }
   ],
   "source": [
    "x = 10\n",
    "y = 20\n",
    "print(f\"The sum of x and y is {x+y}.\")"
   ]
  },
  {
   "cell_type": "markdown",
   "metadata": {},
   "source": [
    "### Stride\n",
    "We can also input a stride value as follows, with the '2' indicating that we are selecting every second variable:\n",
    "\n",
    "<img src=\"https://cf-courses-data.s3.us.cloud-object-storage.appdomain.cloud/IBMDeveloperSkillsNetwork-PY0101EN-SkillsNetwork/labs/Module%201/images/StringsStride.png\" width=\"600\" align=\"center\">\n",
    "\n",
    "[start:end:step]"
   ]
  },
  {
   "cell_type": "code",
   "execution_count": 5,
   "metadata": {},
   "outputs": [
    {
     "data": {
      "text/plain": [
       "'Mca'"
      ]
     },
     "execution_count": 5,
     "metadata": {},
     "output_type": "execute_result"
    }
   ],
   "source": [
    "# Get every second element. The elments on index 1, 3, 5 ...\n",
    "\n",
    "name = \"Michael Jackson\"\n",
    "name[::2] #[start:end:step]\n",
    "\n",
    "# Get every second element in the range from index 0 to index 4\n",
    "\n",
    "name[0:5:2]"
   ]
  },
  {
   "cell_type": "markdown",
   "metadata": {},
   "source": [
    "### Dealing with multiple values in a for loop."
   ]
  },
  {
   "cell_type": "code",
   "execution_count": 6,
   "metadata": {},
   "outputs": [
    {
     "name": "stdout",
     "output_type": "stream",
     "text": [
      "[(0, 'A'), (1, 'B'), (2, 'C')]\n",
      "0 A\n",
      "1 B\n",
      "2 C\n"
     ]
    }
   ],
   "source": [
    "print(list(enumerate(['A', 'B', 'C'])))\n",
    "\n",
    "for i, x in enumerate(['A', 'B', 'C']):\n",
    "    print(i, x)\n",
    "\n"
   ]
  },
  {
   "cell_type": "markdown",
   "metadata": {},
   "source": [
    "In Python, you can't directly use `or` in the argument of `type()` or similar functions to check multiple types simultaneously. However, you can achieve similar functionality using `isinstance()` with a tuple of types. Here's how you can modify your condition:"
   ]
  },
  {
   "cell_type": "code",
   "execution_count": 7,
   "metadata": {},
   "outputs": [
    {
     "name": "stdout",
     "output_type": "stream",
     "text": [
      "True\n",
      "True\n"
     ]
    }
   ],
   "source": [
    "print(type(1)==int or type(1)==float)\n",
    "print(isinstance(1.1, (int, float)))"
   ]
  },
  {
   "cell_type": "markdown",
   "metadata": {},
   "source": [
    "## A Better Way to Open a File\n",
    "Using the <code>with</code> statement is better practice, it automatically closes the file even if the code encounters an exception. The code will run everything in the indent block then close the file object.\n",
    "Avoid using open() since it is very important that the file is closed in the end. This frees up resources and ensures consistency across different python versions.\n",
    "\n",
    "```\n",
    "# Open file using with\n",
    "\n",
    "with open(example1, \"r\") as file1:\n",
    "    FileContent = file1.read()\n",
    "    print(FileContent)\n",
    "```\n",
    "\n",
    "Once the method <code>.read(4)</code> is called the first 4 characters are called. We can also pass an argument to <code> readline() </code> to specify the number of charecters we want to read. However, unlike <code> read()</code>, <code> readline()</code> can only read one line at most.\n"
   ]
  },
  {
   "cell_type": "markdown",
   "metadata": {},
   "source": [
    "## Additional modes\n",
    "It's fairly ineffecient to open the file in **a** or **w** and then reopening it in **r** to read any lines. Luckily we can access the file in the following modes:\n",
    "- **r+** : Reading and writing. Cannot truncate the file.\n",
    "- **w+** : Writing and reading. Truncates the file.\n",
    "- **a+** : Appending and Reading. Creates a new file, if none exists.\n",
    "You dont have to dwell on the specifics of each mode for this lab. \n",
    "```\n",
    "with open('/Example2.txt', 'a+') as testwritefile:\n",
    "    testwritefile.write(\"This is line E\\n\")\n",
    "    print(testwritefile.read())\n",
    "```\n",
    "There were no errors but <code>read()</code> also did not output anything. This is because of our location in the file.\n",
    "\n",
    "Most of the file methods we've looked at work in a certain location in the file. <code>.write() </code> writes at a certain location in the file. <code>.read()</code> reads at a certain location in the file and so on. You can think of this as moving your pointer around in the notepad to make changes at specific location.\n",
    "\n",
    "Opening the file in **w** is akin to opening the .txt file, moving your cursor to the beginning of the text file, writing new text and deleting everything that follows.\n",
    "Whereas opening the file in **a** is similiar to opening the .txt file, moving your cursor to the very end and then adding the new pieces of text. <br>\n",
    "It is often very useful to know where the 'cursor' is in a file and be able to control it. The following methods allow us to do precisely this -\n",
    "- <code>.tell()</code> - returns the current position in bytes\n",
    "- <code>.seek(offset,from)</code> - changes the position by 'offset' bytes with respect to 'from'. From can take the value of 0,1,2 corresponding to beginning, relative to current position and end\n",
    "\n",
    "```\n",
    "with open('/Example2.txt', 'a+') as testwritefile:\n",
    "    print(\"Initial Location: {}\".format(testwritefile.tell()))\n",
    "    \n",
    "    data = testwritefile.read()\n",
    "    if (not data):  #empty strings return false in python\n",
    "            print('Read nothing') \n",
    "    else: \n",
    "            print(testwritefile.read())\n",
    "            \n",
    "    testwritefile.seek(0,0) # move 0 bytes from beginning.\n",
    "    \n",
    "    print(\"\\nNew Location : {}\".format(testwritefile.tell()))\n",
    "    data = testwritefile.read()\n",
    "    if (not data): \n",
    "            print('Read nothing') \n",
    "    else: \n",
    "            print(data)\n",
    "    \n",
    "    print(\"Location after read: {}\".format(testwritefile.tell()) )\n",
    "```\n",
    "```\n",
    "Initial Location: 70\n",
    "Read nothing\n",
    "\n",
    "New Location : 0\n",
    "Overwrite\n",
    "This is line C\n",
    "This is line D\n",
    "This is line E\n",
    "This is line E\n",
    "\n",
    "Location after read: 70\n",
    "```"
   ]
  },
  {
   "cell_type": "markdown",
   "metadata": {},
   "source": [
    "# Practice Lab: Selecting data in a Dataframe\n",
    "### Pandas\n",
    "\n",
    "Unlike in R, in pandas you can't directly use `.iloc[]` or `.loc[]` with a mix of integer and label-based indexing for both the rows and columns simultaneously. However, you can achieve similar functionality by using a combination of `.iloc[]` and `.loc[]`, or by using `.loc[]` with boolean indexing.\n",
    "\n",
    "Here's how you can achieve this:\n",
    "\n",
    "1.  **Combination of `.iloc[]` and `.loc[]`:** You can use `.iloc[]` to select the row by index and then use `.loc[]` to select the column by label.\n",
    "    \n",
    "    `df2.loc[df2.index[3], \"Department\"]`\n",
    "    \n",
    "2.  **Using `.loc[]` with boolean indexing:** You can use boolean indexing to select rows and columns based on conditions.\n",
    "    \n",
    "    `df2.loc[df2.index[3], \"Department\"]`\n",
    "    \n",
    "\n",
    "Both of these approaches will allow you to select a specific cell in your DataFrame, even if it contains a mix of text and numbers and you want to index using both integer and label-based indices\n",
    "\n",
    "Also In Python, specifically in pandas, when using `.iloc[]` to select rows or columns by index, you can't leave an index empty. In contrast, R allows specifying a range without specifying the start or end index, assuming it to be the beginning or end, respectively. However, in Python, you must explicitly provide both the start and end index in a range.\n",
    "\n",
    "To select a range of rows or columns using `.iloc[]`, you need to specify both the start and end indices. Here's the correct syntax to select all rows with only the 2nd column:\n",
    "`df2.iloc[:, 2:3]`\n",
    "\n",
    "This syntax selects all rows (`:` denotes all rows) and the column at index 2 (Python uses 0-based indexing). The range `2:3` specifies the column indices from 2 (inclusive) to 3 (exclusive), so it selects only the 2nd column.\n",
    "\n",
    "If you want to select all rows with only the 2nd column using label-based indexing, you can use `.loc[]`.\n",
    "\n",
    "In pandas, when using indexing or selecting specific elements from a DataFrame, the convention is to specify rows first and then columns. This is the opposite of the convention used in R. If you prefer the R-style indexing (column-first), you can achieve similar behavior in pandas by using the `df.iloc[]` or `df.loc[]` accessors with a list of column names followed by a row index, like this:\n",
    "\n",
    "```\n",
    "# Using iloc with column names and row index \n",
    "value = df.iloc[:, ['column1', 'column2']].iloc[3]\n",
    "```\n",
    "\n",
    "\n",
    "But this is less common and may be less readable compared to the standard pandas indexing conventions."
   ]
  },
  {
   "cell_type": "markdown",
   "metadata": {},
   "source": [
    "# APIs\n",
    "## Response\n",
    "\n",
    "The figure below represents the response; the response start line contains the version number <code>HTTP/1.0</code>, a status code (200) meaning success, followed by a descriptive phrase (OK). The response header contains useful information. Finally, we have the response body containing the requested file, an <code> HTML </code> document.  It should be noted that some requests have headers.\n",
    "\n",
    "Some status code examples are shown in the table below, the prefix indicates the class. These are shown in yellow, with actual status codes shown in  white. Check out the following <a href=\"https://developer.mozilla.org/en-US/docs/Web/HTTP/Status?utm_medium=Exinfluencer&utm_source=Exinfluencer&utm_content=000026UJ&utm_term=10006555&utm_id=NA-SkillsNetwork-Channel-SkillsNetworkCoursesIBMDeveloperSkillsNetworkPY0101ENSkillsNetwork19487395-2021-01-01\">link </a> for more descriptions.\n",
    "\n",
    "<div style=\"margin-top: 20px\">\n",
    "         <img src=\"https://cf-courses-data.s3.us.cloud-object-storage.appdomain.cloud/IBMDeveloperSkillsNetwork-PY0101EN-SkillsNetwork/labs/Module%205/images/status_code.png\" width=\"300\" align=\"center\">\n",
    "</div>\n",
    "\n"
   ]
  },
  {
   "cell_type": "markdown",
   "metadata": {},
   "source": []
  },
  {
   "cell_type": "code",
   "execution_count": 10,
   "metadata": {},
   "outputs": [
    {
     "name": "stdout",
     "output_type": "stream",
     "text": [
      "Collecting requests\n",
      "  Downloading requests-2.31.0-py3-none-any.whl.metadata (4.6 kB)\n",
      "Collecting charset-normalizer<4,>=2 (from requests)\n",
      "  Downloading charset_normalizer-3.3.2-cp311-cp311-win_amd64.whl.metadata (34 kB)\n",
      "Collecting idna<4,>=2.5 (from requests)\n",
      "  Downloading idna-3.7-py3-none-any.whl.metadata (9.9 kB)\n",
      "Collecting urllib3<3,>=1.21.1 (from requests)\n",
      "  Downloading urllib3-2.2.1-py3-none-any.whl.metadata (6.4 kB)\n",
      "Collecting certifi>=2017.4.17 (from requests)\n",
      "  Downloading certifi-2024.2.2-py3-none-any.whl.metadata (2.2 kB)\n",
      "Downloading requests-2.31.0-py3-none-any.whl (62 kB)\n",
      "   ---------------------------------------- 0.0/62.6 kB ? eta -:--:--\n",
      "   ---------------------------------------- 62.6/62.6 kB 3.3 MB/s eta 0:00:00\n",
      "Downloading certifi-2024.2.2-py3-none-any.whl (163 kB)\n",
      "   ---------------------------------------- 0.0/163.8 kB ? eta -:--:--\n",
      "   --------------------------------------- 163.8/163.8 kB 10.2 MB/s eta 0:00:00\n",
      "Downloading charset_normalizer-3.3.2-cp311-cp311-win_amd64.whl (99 kB)\n",
      "   ---------------------------------------- 0.0/99.9 kB ? eta -:--:--\n",
      "   ---------------------------------------- 99.9/99.9 kB ? eta 0:00:00\n",
      "Downloading idna-3.7-py3-none-any.whl (66 kB)\n",
      "   ---------------------------------------- 0.0/66.8 kB ? eta -:--:--\n",
      "   ---------------------------------------- 66.8/66.8 kB ? eta 0:00:00\n",
      "Downloading urllib3-2.2.1-py3-none-any.whl (121 kB)\n",
      "   ---------------------------------------- 0.0/121.1 kB ? eta -:--:--\n",
      "   ---------------------------------------- 121.1/121.1 kB ? eta 0:00:00\n",
      "Installing collected packages: urllib3, idna, charset-normalizer, certifi, requests\n",
      "Successfully installed certifi-2024.2.2 charset-normalizer-3.3.2 idna-3.7 requests-2.31.0 urllib3-2.2.1\n",
      "Note: you may need to restart the kernel to use updated packages.\n"
     ]
    }
   ],
   "source": [
    "%pip install requests\n",
    "import requests\n",
    "import os \n",
    "from PIL import Image\n",
    "from IPython.display import IFrame\n",
    "\n",
    "url='https://www.ibm.com/'\n",
    "r=requests.get(url)"
   ]
  },
  {
   "cell_type": "code",
   "execution_count": null,
   "metadata": {},
   "outputs": [],
   "source": []
  }
 ],
 "metadata": {
  "kernelspec": {
   "display_name": "Python 3",
   "language": "python",
   "name": "python3"
  },
  "language_info": {
   "codemirror_mode": {
    "name": "ipython",
    "version": 3
   },
   "file_extension": ".py",
   "mimetype": "text/x-python",
   "name": "python",
   "nbconvert_exporter": "python",
   "pygments_lexer": "ipython3",
   "version": "3.11.9"
  }
 },
 "nbformat": 4,
 "nbformat_minor": 2
}
