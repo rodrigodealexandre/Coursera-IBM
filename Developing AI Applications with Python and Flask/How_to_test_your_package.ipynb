{
 "cells": [
  {
   "cell_type": "markdown",
   "metadata": {},
   "source": [
    "### Verify the package\n",
    "On the window to the right, click on the `Terminal` menu and select New `Terminal` option, as shown in the image below.\n",
    "You will see a terminal open up on the bottom of the screen like the one in the image below.\n",
    "\n",
    "\n",
    "At the terminal type `python3` to invoke python interpreter.\n",
    "Once the python interpreter is loaded.\n",
    "At the python prompt type `import mymath`\n",
    "If the above command runs without errors, it is an indication that the `mymath` package is successfully loaded.\n",
    "At the python prompt type `mymath.basic.add(3,4)`\n",
    "You should see an output 7 on the screen.\n",
    "At the python prompt type `mymath.stats.mean([3,4,5])`\n",
    "You should see an output 4.0 on the screen.\n",
    "Type `exit()` to quit python interpreter.\n"
   ]
  },
  {
   "cell_type": "code",
   "execution_count": 1,
   "metadata": {},
   "outputs": [],
   "source": [
    "import mymath"
   ]
  },
  {
   "cell_type": "code",
   "execution_count": 8,
   "metadata": {},
   "outputs": [
    {
     "name": "stdout",
     "output_type": "stream",
     "text": [
      "1\n",
      "2\n",
      "2\n",
      "1.6\n",
      "2\n"
     ]
    }
   ],
   "source": [
    "print(mymath.basic.square(1))\n",
    "print(mymath.basic.double(1))\n",
    "print(mymath.basic.add(1,1))\n",
    "#mymath.basic.add(3,4)\n",
    "print(mymath.stats.mean([1,2,2,2,1]))\n",
    "print(mymath.stats.median([1,2,2,2,1]))\n",
    "#mymath.stats.mean([3,4,5])"
   ]
  },
  {
   "cell_type": "markdown",
   "metadata": {},
   "source": [
    "### Practice Exercise\n",
    "Create a new module named `geometry` and add to the `mymath` package.\n",
    "Create a module name `geometry`\n",
    "Add a function named `area_of_rectangle` that takes length and breadth as input and returns the area of a rectangle.\n",
    "Add a function named `area_of_circle` that takes radius as input and returns the area of a circle.\n",
    "Modify the `__init__.py` to include this module.\n",
    "Import and test the function `area_of_circle` from python terminal.\n",
    "\n"
   ]
  },
  {
   "cell_type": "code",
   "execution_count": null,
   "metadata": {},
   "outputs": [],
   "source": []
  }
 ],
 "metadata": {
  "kernelspec": {
   "display_name": "Python 3",
   "language": "python",
   "name": "python3"
  },
  "language_info": {
   "codemirror_mode": {
    "name": "ipython",
    "version": 3
   },
   "file_extension": ".py",
   "mimetype": "text/x-python",
   "name": "python",
   "nbconvert_exporter": "python",
   "pygments_lexer": "ipython3",
   "version": "3.11.9"
  }
 },
 "nbformat": 4,
 "nbformat_minor": 2
}
