{
 "cells": [
  {
   "cell_type": "markdown",
   "metadata": {},
   "source": [
    "### Unit Testing Lab\n",
    "Create a new python file named `mymodule.py`\n",
    "\n",
    "Copy and paste the below code into `mymodule.py`\n",
    "\n",
    "```\n",
    "def square(number):\n",
    "    \"\"\"\n",
    "    This function returns the square of a given number\n",
    "    \"\"\"\n",
    "    return number ** 2\n",
    "\n",
    "def double(number):\n",
    "    \"\"\"\n",
    "    This function returns twice the value of a given number\n",
    "    \"\"\"\n",
    "    return number * 2\n",
    "```\n",
    "\n",
    "Create a new file and name it as `test_mymodule.py`\n",
    "Copy and paste the below code into `test_mymodule.py`\n",
    "\n",
    "```\n",
    "import unittest\n",
    "\n",
    "from mymodule import square, double\n",
    "\n",
    "class TestSquare(unittest.TestCase): \n",
    "    def test1(self): \n",
    "        self.assertEqual(square(2), 4) # test when 2 is given as input the output is 4.\n",
    "        self.assertEqual(square(3.0), 9.0)  # test when 3.0 is given as input the output is 9.0.\n",
    "        self.assertNotEqual(square(-3), -9)  # test when -3 is given as input the output is not -9.\n",
    "        \n",
    "\n",
    "class TestDouble(unittest.TestCase): \n",
    "    def test1(self): \n",
    "        self.assertEqual(double(2), 4) # test when 2 is given as input the output is 4.\n",
    "        self.assertEqual(double(-3.1), -6.2) # test when -3.1 is given as input the output is -6.2.\n",
    "        self.assertEqual(double(0), 0) # test when 0 is given as input the output is 0.\n",
    "        \n",
    "unittest.main()\n",
    "```"
   ]
  },
  {
   "cell_type": "code",
   "execution_count": 13,
   "metadata": {},
   "outputs": [
    {
     "name": "stderr",
     "output_type": "stream",
     "text": [
      "..\n",
      "----------------------------------------------------------------------\n",
      "Ran 2 tests in 0.000s\n",
      "\n",
      "OK\n"
     ]
    }
   ],
   "source": [
    "!python3 test_mymodule.py"
   ]
  },
  {
   "cell_type": "markdown",
   "metadata": {},
   "source": [
    "### Write unit tests for the given function\n",
    "Here is a function that accepts two arguments and returns their sum.\n",
    "\n",
    "Copy and paste the below code into `mymodule2.py` and the save the file.\n",
    "\n",
    "```\n",
    "def add(a,b):\n",
    "    \"\"\"\n",
    "    This function returns the sum of the given numbers\n",
    "    \"\"\"\n",
    "    return a + b\n",
    "```\n",
    "\n",
    "Write test cases for these scenarios.\n",
    "* When 2 and 4 are given as input the output must be 6.\n",
    "* When 0 and 0 are given as input the output must be 0.\n",
    "* When 2.3 and 3.6 are given as input the output must be 5.9.\n",
    "* When the strings ‘hello’ and ‘world’ are given as input the output must be ‘helloworld’.\n",
    "* When 2.3000 and 4.300 are given as input the output must be 6.6.\n",
    "* When -2 and -2 are given as input the output must not be 0. (Hint : Use assertNotEqual)"
   ]
  },
  {
   "cell_type": "code",
   "execution_count": 5,
   "metadata": {},
   "outputs": [
    {
     "name": "stderr",
     "output_type": "stream",
     "text": [
      ".\n",
      "----------------------------------------------------------------------\n",
      "Ran 1 test in 0.000s\n",
      "\n",
      "OK\n"
     ]
    }
   ],
   "source": [
    "\n",
    "#my code resolution:\n",
    "import unittest\n",
    "\n",
    "#from mymodule2 import add\n",
    "\n",
    "def add(a,b):\n",
    "    \"\"\"\n",
    "    This function returns the sum of the given numbers\n",
    "    \"\"\"\n",
    "    return a + b\n",
    "\n",
    "class TestAddFunction(unittest.TestCase):\n",
    "    def test_addition(self):\n",
    "        self.assertEqual(add(2,4),6)\n",
    "        self.assertEqual(add(0,0),0)\n",
    "        self.assertEqual(add(2.3,3.6),5.9)\n",
    "        self.assertEqual(add(\"hello\",\"world\"),\"helloworld\")\n",
    "        self.assertEqual(add(2.3000,4.300),6.6)\n",
    "        self.assertNotEqual(add(-2,-2),0)\n",
    "        \n",
    "    if __name__ == '__main__':\n",
    "        unittest.main(argv=['first-arg-is-ignored'], exit=False)\n",
    "        \n",
    "#    if __name__ == '__main__':\n",
    "#        unittest.main()\n"
   ]
  },
  {
   "cell_type": "code",
   "execution_count": null,
   "metadata": {},
   "outputs": [],
   "source": []
  }
 ],
 "metadata": {
  "kernelspec": {
   "display_name": "Python 3",
   "language": "python",
   "name": "python3"
  },
  "language_info": {
   "codemirror_mode": {
    "name": "ipython",
    "version": 3
   },
   "file_extension": ".py",
   "mimetype": "text/x-python",
   "name": "python",
   "nbconvert_exporter": "python",
   "pygments_lexer": "ipython3",
   "version": "3.11.9"
  }
 },
 "nbformat": 4,
 "nbformat_minor": 2
}
