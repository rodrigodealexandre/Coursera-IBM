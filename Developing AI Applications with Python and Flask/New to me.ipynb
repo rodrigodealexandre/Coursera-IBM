{
 "cells": [
  {
   "cell_type": "markdown",
   "metadata": {},
   "source": [
    "## Hands-on Lab: Static Code Analysis\n",
    "\n",
    "* Run Static Code Analysis on a python program\n",
    "\n",
    "Static code analysis, or static analysis, is an application code efficiency verification activity that analyses source code for quality, reliability, and security without executing the code. Static code analysis is an essential part of any application development cycle and is available as a part of multiple frameworks with Python.\n",
    "\n",
    "One of the most popular frameworks is PyLint. PyLint basically evaluates the code against compliance with the PEP8 coding style guide and generates comments wherever it finds an issue."
   ]
  },
  {
   "cell_type": "code",
   "execution_count": 8,
   "metadata": {},
   "outputs": [
    {
     "name": "stdout",
     "output_type": "stream",
     "text": [
      "Collecting pylint\n",
      "  Downloading pylint-3.1.0-py3-none-any.whl.metadata (12 kB)\n",
      "Requirement already satisfied: platformdirs>=2.2.0 in c:\\users\\rodri\\appdata\\local\\packages\\pythonsoftwarefoundation.python.3.11_qbz5n2kfra8p0\\localcache\\local-packages\\python311\\site-packages (from pylint) (4.2.1)\n",
      "Collecting astroid<=3.2.0-dev0,>=3.1.0 (from pylint)\n",
      "  Downloading astroid-3.1.0-py3-none-any.whl.metadata (4.5 kB)\n",
      "Collecting isort!=5.13.0,<6,>=4.2.5 (from pylint)\n",
      "  Using cached isort-5.13.2-py3-none-any.whl.metadata (12 kB)\n",
      "Collecting mccabe<0.8,>=0.6 (from pylint)\n",
      "  Downloading mccabe-0.7.0-py2.py3-none-any.whl.metadata (5.0 kB)\n",
      "Collecting tomlkit>=0.10.1 (from pylint)\n",
      "  Downloading tomlkit-0.12.5-py3-none-any.whl.metadata (2.7 kB)\n",
      "Collecting dill>=0.3.6 (from pylint)\n",
      "  Downloading dill-0.3.8-py3-none-any.whl.metadata (10 kB)\n",
      "Requirement already satisfied: colorama>=0.4.5 in c:\\users\\rodri\\appdata\\local\\packages\\pythonsoftwarefoundation.python.3.11_qbz5n2kfra8p0\\localcache\\local-packages\\python311\\site-packages (from pylint) (0.4.6)\n",
      "Downloading pylint-3.1.0-py3-none-any.whl (515 kB)\n",
      "   ---------------------------------------- 0.0/515.6 kB ? eta -:--:--\n",
      "   -- ------------------------------------ 30.7/515.6 kB 640.0 kB/s eta 0:00:01\n",
      "   --------------- ------------------------ 194.6/515.6 kB 2.0 MB/s eta 0:00:01\n",
      "   ----------------------------------- ---- 460.8/515.6 kB 3.2 MB/s eta 0:00:01\n",
      "   ---------------------------------------- 515.6/515.6 kB 3.6 MB/s eta 0:00:00\n",
      "Downloading astroid-3.1.0-py3-none-any.whl (275 kB)\n",
      "   ---------------------------------------- 0.0/275.6 kB ? eta -:--:--\n",
      "   ---------------------------------------- 275.6/275.6 kB ? eta 0:00:00\n",
      "Downloading dill-0.3.8-py3-none-any.whl (116 kB)\n",
      "   ---------------------------------------- 0.0/116.3 kB ? eta -:--:--\n",
      "   ---------------------------------------- 116.3/116.3 kB ? eta 0:00:00\n",
      "Downloading isort-5.13.2-py3-none-any.whl (92 kB)\n",
      "   ---------------------------------------- 0.0/92.3 kB ? eta -:--:--\n",
      "   ---------------------------------------- 92.3/92.3 kB ? eta 0:00:00\n",
      "Downloading mccabe-0.7.0-py2.py3-none-any.whl (7.3 kB)\n",
      "Downloading tomlkit-0.12.5-py3-none-any.whl (37 kB)\n",
      "Installing collected packages: tomlkit, mccabe, isort, dill, astroid, pylint\n",
      "Successfully installed astroid-3.1.0 dill-0.3.8 isort-5.13.2 mccabe-0.7.0 pylint-3.1.0 tomlkit-0.12.5\n"
     ]
    }
   ],
   "source": [
    "# first install the pylint package\n",
    "#!pip3 install --upgrade pip\n",
    "!pip3 install pylint\n",
    "#remove the % in the console and version suggested for the course."
   ]
  },
  {
   "cell_type": "markdown",
   "metadata": {},
   "source": [
    "Create a new file named `sample1.py`\n",
    "\n",
    "Copy and paste the below code into `sample1.py`\n",
    "\n",
    "```\n",
    "def add(number1, number2):\n",
    "    return number1 + number2\n",
    "\n",
    "num1 = 4\n",
    "num2 = 5\n",
    "total = add(num1, num2)\n",
    "print(\"The sum of {} and {} is {}\".format(num1, num2, total))`\n",
    "```\n",
    "\n",
    "#### Run pylint"
   ]
  },
  {
   "cell_type": "code",
   "execution_count": 13,
   "metadata": {},
   "outputs": [
    {
     "name": "stdout",
     "output_type": "stream",
     "text": [
      "************* Module sample1\n",
      "sample1.py:1:0: C0114: Missing module docstring (missing-module-docstring)\n",
      "sample1.py:1:0: C0116: Missing function or method docstring (missing-function-docstring)\n",
      "sample1.py:4:0: C0103: Constant name \"num1\" doesn't conform to UPPER_CASE naming style (invalid-name)\n",
      "sample1.py:5:0: C0103: Constant name \"num2\" doesn't conform to UPPER_CASE naming style (invalid-name)\n",
      "sample1.py:6:0: C0103: Constant name \"total\" doesn't conform to UPPER_CASE naming style (invalid-name)\n",
      "sample1.py:7:6: C0209: Formatting a regular string which could be an f-string (consider-using-f-string)\n",
      "\n",
      "------------------------------------------------------------------\n",
      "Your code has been rated at 0.00/10 (previous run: 0.00/10, +0.00)\n",
      "\n"
     ]
    }
   ],
   "source": [
    "!pylint sample1.py"
   ]
  },
  {
   "cell_type": "code",
   "execution_count": 14,
   "metadata": {},
   "outputs": [
    {
     "name": "stdout",
     "output_type": "stream",
     "text": [
      "************* Module sample2\n",
      "sample2.py:1:0: C0114: Missing module docstring (missing-module-docstring)\n",
      "sample2.py:1:0: C0116: Missing function or method docstring (missing-function-docstring)\n",
      "sample2.py:5:0: C0103: Constant name \"num2\" doesn't conform to UPPER_CASE naming style (invalid-name)\n",
      "sample2.py:6:0: C0103: Constant name \"total\" doesn't conform to UPPER_CASE naming style (invalid-name)\n",
      "sample2.py:7:6: C0209: Formatting a regular string which could be an f-string (consider-using-f-string)\n",
      "\n",
      "------------------------------------------------------------------\n",
      "Your code has been rated at 1.67/10 (previous run: 0.00/10, +1.67)\n",
      "\n"
     ]
    }
   ],
   "source": [
    "!pylint sample2.py"
   ]
  },
  {
   "cell_type": "code",
   "execution_count": 16,
   "metadata": {},
   "outputs": [
    {
     "name": "stdout",
     "output_type": "stream",
     "text": [
      "\n",
      "-------------------------------------------------------------------\n",
      "Your code has been rated at 10.00/10 (previous run: 5.00/10, +5.00)\n",
      "\n"
     ]
    }
   ],
   "source": [
    "!pylint sample3_all_corrected.py"
   ]
  }
 ],
 "metadata": {
  "kernelspec": {
   "display_name": "Python 3",
   "language": "python",
   "name": "python3"
  },
  "language_info": {
   "codemirror_mode": {
    "name": "ipython",
    "version": 3
   },
   "file_extension": ".py",
   "mimetype": "text/x-python",
   "name": "python",
   "nbconvert_exporter": "python",
   "pygments_lexer": "ipython3",
   "version": "3.11.9"
  }
 },
 "nbformat": 4,
 "nbformat_minor": 2
}
