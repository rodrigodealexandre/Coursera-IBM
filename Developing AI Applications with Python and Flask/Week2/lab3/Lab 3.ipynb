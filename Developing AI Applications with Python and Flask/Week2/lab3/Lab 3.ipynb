{
 "cells": [
  {
   "cell_type": "markdown",
   "metadata": {},
   "source": [
    "### Task 1: Write the mathematical functions\n",
    "In this task, you arre required to write a script that has functions to add, subtract and multiply two values. Let's call this script `mathematics.py`\n",
    "\n",
    "Follow the steps for this task.\n",
    "\n",
    "1. Open a terminal window by using the menu in the editor: Terminal > New Terminal.\n",
    "2. Go to the project home directory.\n",
    "3. git clone `https://github.com/ibm-developer-skills-network/hjbsk-build_deploy_app_flask`\n",
    "4. Change to the `practice_project` folder cd `/home/project/hjbsk-build_deploy_app_flask`\n",
    "5. Create folder named `Maths` and change to that directory. `mkdir Maths \\ cd Maths`\n",
    "6. In the explorer, go to the `Maths` directory and create a new file called `mathematics.py`.\n",
    "7. Add function `summation` which takes in the `a` and `b` as a number arguments, in `mathematics.py`.\n",
    "8. Add function `subtraction` which takes in the `a` and `b` as a number arguments, in `mathematics.py`.\n",
    "9. Add function `multiplication` which takes in the `a` and `b` as a number arguments, in `mathematics.py`.\n"
   ]
  },
  {
   "cell_type": "markdown",
   "metadata": {},
   "source": [
    "\n",
    "### Task 2: Package the functions\n",
    "\n",
    "1. Create `__init__.py` file in the directory Maths.\n",
    "2. Import the file `mathematics.py` to the `__init__.py` file.\\\n",
    "    `from . import mathematics`\n",
    "3. Import the package `Maths` in `server.py`.\\\n",
    "    `from Maths.mathematics import summation, subtraction, multiplication`\n",
    "4. In the `server.py`, for end-point `/`, implement a method that renders the `index.html`.\n",
    "    ```\n",
    "    @app.route(\"/\")\n",
    "    def render_index_page():\n",
    "        return render_template('index.html')\n",
    "    ```\n",
    "5. In the space provided in `server.py` for end-point `/sum` implement a method that uses the appropriate summation function through the package you created in the previous part. The function should take the arguments `num1` and `num2` as a float input through the request parameter and return a string output.\n",
    "6. n the space provided in `server.py` for end-point `/sub` implement a method that uses the appropriate subtraction function through the package you created in the previous part. The function should take the arguments `num1` and `num2` as a float input through the request parameter and return a string output.\n",
    "7. In the space provided in `server.py` for end-point `/mul` implement a method that uses the appropriate multiplication function through the package you created in the previous part. The function should take the arguments `num1` and `num2` as a float input through the request parameter and return a string output."
   ]
  },
  {
   "cell_type": "markdown",
   "metadata": {},
   "source": [
    "#### Task 3: Web Deployment of the application package using Flask\n",
    "1. Change current directory on the terminal to the `hjbsk-build_deploy_app_flask` directory and run the server from your terminal.\n",
    "    `cd /home/project/hjbsk-build_deploy_app_flask && python3.11 server.py`\n",
    "2. "
   ]
  },
  {
   "cell_type": "code",
   "execution_count": null,
   "metadata": {},
   "outputs": [],
   "source": []
  }
 ],
 "metadata": {
  "language_info": {
   "name": "python"
  }
 },
 "nbformat": 4,
 "nbformat_minor": 2
}
