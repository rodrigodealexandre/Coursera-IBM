{
 "cells": [
  {
   "cell_type": "markdown",
   "metadata": {},
   "source": [
    "\n",
    "### Check Python version and install Flask\n",
    "Install Flask version 2.2.2 using the following command: `pip install \"Flask==2.2.2\"`\n",
    "\n",
    "Create an empty file called `server.py` in the terminal or use the file editor menu.\n",
    "\n",
    "```\n",
    "from flask import {insert module name here}\n",
    "app = {insert module name here}(__name__)\n",
    "\n",
    "@app.route(\"{insert root path here}\")\n",
    "def {insert method name}:\n",
    "    return {insert message here}\n",
    "```"
   ]
  },
  {
   "cell_type": "code",
   "execution_count": null,
   "metadata": {},
   "outputs": [],
   "source": [
    "from flask import Flask\n",
    "app = Flask(__name__)\n",
    "\n",
    "@app.route(\"/\")\n",
    "def index():\n",
    "    return \"hello world\""
   ]
  },
  {
   "cell_type": "markdown",
   "metadata": {},
   "source": [
    "You are all set to run the server. Use the following command to run the server from the terminal:\n",
    "`flask --app server --debug run`\n",
    "\n",
    "You should now be able to use the CURL command on `localhost:5000/`. Note that the terminal is already running the server, you can use the `Split Terminal` button to split the terminal and run the following command in the second tab.\n",
    "`curl -X GET -i -w '\\n' localhost:5000`"
   ]
  },
  {
   "cell_type": "markdown",
   "metadata": {},
   "source": [
    "### Step 1: Set response status code\n",
    "In the last part, you saw Flask automatically sends an `HTTP 200 OK` successful response when you sent back a message. However, you can also set the return status explicitly. Recall that there are two ways to do this, as discussed in the video:\n",
    "\n",
    "Send a tuple back with the message\n",
    "Use the `make_response()` method to create a custom response and set the status\n",
    "\n",
    "**Your Tasks**\n",
    "\n",
    "1. Send custom HTTP code back with a tuple.\n",
    "\n",
    "    You will reuse the `server.py` file you worked on in the last part. Create a new method named `no_content` with the` @app.route` decorator and URL of `/no_content`. The method does not have any arguments. Return a tuple with the JSON message `No content found`.\n",
    "\n",
    "2. Send custom HTTP code back with the `make_response()` method.\n",
    "\n",
    "    Create a second method named `index_explicit` with the `@app.route` decorator and a URL of `/exp`. The method does not have any arguments. Use the `make_response()` method to create a new response. Set the status to 200.\n",
    "\n"
   ]
  },
  {
   "cell_type": "markdown",
   "metadata": {},
   "source": []
  },
  {
   "cell_type": "code",
   "execution_count": null,
   "metadata": {},
   "outputs": [],
   "source": [
    "curl -X GET -i -w '\\n' localhost:5000/no_content\n",
    "curl -X GET -i -w '\\n' localhost:5000/exp"
   ]
  }
 ],
 "metadata": {
  "kernelspec": {
   "display_name": "Python 3",
   "language": "python",
   "name": "python3"
  },
  "language_info": {
   "codemirror_mode": {
    "name": "ipython",
    "version": 3
   },
   "file_extension": ".py",
   "mimetype": "text/x-python",
   "name": "python",
   "nbconvert_exporter": "python",
   "pygments_lexer": "ipython3",
   "version": "3.11.9"
  }
 },
 "nbformat": 4,
 "nbformat_minor": 2
}
