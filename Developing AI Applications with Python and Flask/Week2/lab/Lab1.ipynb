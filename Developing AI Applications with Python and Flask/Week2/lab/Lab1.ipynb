{
 "cells": [
  {
   "cell_type": "markdown",
   "metadata": {},
   "source": [
    "\n",
    "### Check Python version and install Flask\n",
    "Install Flask version 2.2.2 using the following command: `pip install \"Flask==2.2.2\"`\n",
    "\n",
    "Create an empty file called `server.py` in the terminal or use the file editor menu.\n",
    "\n",
    "```\n",
    "from flask import {insert module name here}\n",
    "app = {insert module name here}(__name__)\n",
    "\n",
    "@app.route(\"{insert root path here}\")\n",
    "def {insert method name}:\n",
    "    return {insert message here}\n",
    "```"
   ]
  },
  {
   "cell_type": "code",
   "execution_count": null,
   "metadata": {},
   "outputs": [],
   "source": [
    "from flask import Flask\n",
    "app = Flask(__name__)\n",
    "\n",
    "@app.route(\"/\")\n",
    "def index():\n",
    "    return \"hello world\""
   ]
  },
  {
   "cell_type": "markdown",
   "metadata": {},
   "source": [
    "You are all set to run the server. Use the following command to run the server from the terminal:\n",
    "`flask --app server --debug run`\n",
    "\n",
    "You should now be able to use the CURL command on `localhost:5000/`. Note that the terminal is already running the server, you can use the `Split Terminal` button to split the terminal and run the following command in the second tab.\n",
    "`curl -X GET -i -w '\\n' localhost:5000`"
   ]
  }
 ],
 "metadata": {
  "language_info": {
   "name": "python"
  }
 },
 "nbformat": 4,
 "nbformat_minor": 2
}
