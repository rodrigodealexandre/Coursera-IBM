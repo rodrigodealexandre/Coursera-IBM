{
 "cells": [
  {
   "cell_type": "markdown",
   "metadata": {},
   "source": [
    "**Estimated time needed: 60 minutes**\n",
    "\n",
    "## Overview\n",
    "CRUD, which stands for Create, Read, Update, Delete, are basic functionalities that any application based on a database must possess. The development of these features requires additional knowledge of handling routes and requests. You also require multiple endpoint HTML interfaces to accommodate different requests. The purpose of this lab, therefore, is to give you some additional practice on the usage of Flask and develop a fully functional, CRUD operation-capable web application.\n",
    "\n",
    "For this lab, you will develop a financial transaction recording system. The system must be capable of Creating a new entry, Reading existing entries, Updating existing entries, and Deleting existing entries.\n",
    "\n",
    "### Objectives\n",
    "After completing this lab, you will be able to:\n",
    "\n",
    "* Implement \"Create\" operation to add transaction entry\n",
    "* Implement \"Read\" operation to access the list of transaction entries\n",
    "* Implement \"Update\" operation to update the details of a given transaction entry\n",
    "* Implement \"Delete\" operation to delete a transaction entry.\n",
    "* After you complete developing the application, it will function as displayed in the animation.\n",
    "\n",
    "The application has three different web pages. The first one displays all the recorded transactions. This page is called Transaction Records and displays all the transactions entries created in the system. This page also gives an option to Edit and Delete the available entries. The option of adding an entry is also available on this page. The second page is Add Transaction which is used when the user chooses to add the entry on the previous page. The user adds the Date and Amount values for the new entry. The third page is Edit Transaction which is user navigated to upon clicking the edit entry option. On this page also, the date and amount are accepted as entries; however, these entries are then reflected against the ID that was being edited.\n",
    "\n",
    "*Note*: This platform is not persistent. It is recommended that you keep a copy of your code on your local machines and save changes from time to time. In case you revisit the lab, you will need to recreate the files in this lab environment using the saved copies from your machines.\n",
    "\n",
    "Let's get started!\n",
    "\n",
    "\n"
   ]
  },
  {
   "cell_type": "markdown",
   "metadata": {},
   "source": [
    "#### Clone the Project Repository\n",
    "This lab requires multiple HTML interface files, which have been pre-created for you. You will need to clone the folder structure to the IDE interface using the following command in a terminal shell.\n",
    "\n",
    "`git clone https://github.com/ibm-developer-skills-network/obmnl-flask_assignment.git`\n",
    "\n",
    "When the command is successfully executed, the Project tab must have the folder structure as shown in the image. The root folder,  `obmnl-flask_assignment` should have the `templates` folder and a file `app.py`. The `templates` folder has all the required HTML files, `edit.html`, `form.html`, and `transactions.html`. Throughout this lab, you will implement the required functions in `app.py`.\n",
    "\n",
    "*Initial set up*\n",
    "In the `app.py` file, you need to import necessary modules from Flask and instantiate the Flask application.\n",
    "For this lab, you will need to import the following functions from the *flask* library.\n",
    "\n",
    "* Flask - to instantiate the application\n",
    "* request - to process the `GET` and `POST` requests\n",
    "* url_for - to access the url for a given function using its decorator\n",
    "* redirect - to redirect access requests according to requirement\n",
    "* render_template - to render the html page\n",
    "* After importing the functions, instantiate the application to a variable app."
   ]
  },
  {
   "cell_type": "markdown",
   "metadata": {},
   "source": [
    "Next, let's create a list of sample transactions for testing purposes. You can assume that the transactions already exist on the interface when it is executed for the first time. Please note that this step is completely optional and does not affect the functionality you will develop in this lab. Add the code snippet as shown below to app.py.\n",
    "\n",
    "```\n",
    "# Sample data\n",
    "transactions = [\n",
    "    {'id': 1, 'date': '2023-06-01', 'amount': 100},\n",
    "    {'id': 2, 'date': '2023-06-02', 'amount': -200},\n",
    "    {'id': 3, 'date': '2023-06-03', 'amount': 300}\n",
    "]\n",
    "```\n",
    "\n",
    "The order in which you will develop the functions is as follows:\n",
    "1. Read\n",
    "2. Create\n",
    "3. Update\n",
    "4. Delete\n",
    "\n",
    "The reason to implement Read before the other functions is to be able to redirect to the page with all transactions every time a new transaction is created, updated, or deleted. Therefore, the function to read the existing transactions must exist before the others are implemented."
   ]
  },
  {
   "cell_type": "markdown",
   "metadata": {},
   "source": [
    "#### Read Operation\n",
    "To implement the Read operation, you need to implement a route that displays a list of all transactions. This route will handle `GET` requests, which are used to retrieve and display data in `app.py`.\n",
    "\n",
    "The key steps to implement the Read operation are as follows:\n",
    "\n",
    "Create a function named `get_transactions` that uses `render_template` to return an HTML template named `transactions.html`. This function should pass the transactions to the template for display.\n",
    "\n",
    "Use the Flask `@app.route` decorator to map this function to the root (`/`) URL. This means that when a user visits the base URL of your application, Flask will execute the get_transactions function and return its result.\n",
    "\n"
   ]
  },
  {
   "cell_type": "markdown",
   "metadata": {},
   "source": [
    "#### Create Operation\n",
    "For the Create operation, you will implement a route that allows users to add new transactions. This will involve handling both `GET` and POST HTTP requests - `GET` for displaying the form to the user and `POST` for processing the form data sent by the user.\n",
    "\n",
    "Here is the list of steps to implement the Create operation.\n",
    "\n",
    "1. Create a function named `add_transaction`.\n",
    "2. Use `add` as the decorator for this function. Make sure to pass both `GET` and `POST` as possible methods.\n",
    "3. If the request method is `GET`, use the `render_template` function to display an HTML form using a template named `form.html`. This form will allow users to input data for a new transaction.\n",
    "4. If the request method is `POST`, use `request.form` to extract the form data, create a new transaction, append it to the transactions list, and then use `redirect` and `url_for` to send the user back to the list of transactions.\n",
    "5. The new transaction is passed on to the reading function in the following format.\n",
    "    ```\n",
    "    transation = {\n",
    "                'id': len(transactions)+1\n",
    "                'date': request.form['date']\n",
    "                'amount': float(request.form['amount'])\n",
    "                }\n",
    "    ``` \n",
    "\n",
    "Here, request.form function parses the information received from the entry made in the form.\n",
    "\n",
    "*Click here for hint*\n",
    "The `add_transaction` function content needs the following implementations.\n",
    "For `POST` method, create the new transaction as shown above, append it to the existing list of transactions and redirect to the URL for Read operation.\n",
    "\n",
    "For `GET` method, render the form.html page that accepts the information from the interface."
   ]
  },
  {
   "cell_type": "markdown",
   "metadata": {},
   "source": []
  }
 ],
 "metadata": {
  "language_info": {
   "name": "python"
  }
 },
 "nbformat": 4,
 "nbformat_minor": 2
}
